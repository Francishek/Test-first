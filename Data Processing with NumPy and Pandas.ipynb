{
 "cells": [
  {
   "cell_type": "markdown",
   "id": "108844dd",
   "metadata": {},
   "source": [
    "# Spotify Top 50 Tracks of 2020 Analysis\n",
    "\n",
    " \n",
    "## 1. Introduction \n",
    "\n",
    "\n",
    "The objective of this analysis is to explore the Spotify Top 50 Tracks dataset from 2020, perform EDA, and gain insights into the characteristics of popular songs in 2020, such as artist popularity, album trends, identify popular genres, and analyze relationships between audio features like danceability, loudness, and acousticness across different genres.\n"
   ]
  },
  {
   "cell_type": "markdown",
   "id": "d7726ce2",
   "metadata": {},
   "source": [
    "## 2. Data loading\n",
    "\n",
    "\n",
    "### Importing necessary libraries.\n"
   ]
  },
  {
   "cell_type": "code",
   "execution_count": 19,
   "id": "daf3b623",
   "metadata": {},
   "outputs": [],
   "source": [
    "import pandas as pd\n",
    "import numpy as np\n",
    "import matplotlib.pyplot as plt"
   ]
  },
  {
   "cell_type": "markdown",
   "id": "271a2a8a",
   "metadata": {},
   "source": [
    "### Loading the dataset using Pandas."
   ]
  },
  {
   "cell_type": "code",
   "execution_count": 20,
   "id": "389f45c7",
   "metadata": {},
   "outputs": [],
   "source": [
    "df = pd.read_csv(r\"C:\\Users\\Misiaki\\Desktop\\Git\\spotifytoptracks.xls\")"
   ]
  },
  {
   "cell_type": "code",
   "execution_count": 21,
   "id": "01d1c025",
   "metadata": {},
   "outputs": [
    {
     "data": {
      "text/html": [
       "<div>\n",
       "<style scoped>\n",
       "    .dataframe tbody tr th:only-of-type {\n",
       "        vertical-align: middle;\n",
       "    }\n",
       "\n",
       "    .dataframe tbody tr th {\n",
       "        vertical-align: top;\n",
       "    }\n",
       "\n",
       "    .dataframe thead th {\n",
       "        text-align: right;\n",
       "    }\n",
       "</style>\n",
       "<table border=\"1\" class=\"dataframe\">\n",
       "  <thead>\n",
       "    <tr style=\"text-align: right;\">\n",
       "      <th></th>\n",
       "      <th>Unnamed: 0</th>\n",
       "      <th>artist</th>\n",
       "      <th>album</th>\n",
       "      <th>track_name</th>\n",
       "      <th>track_id</th>\n",
       "      <th>energy</th>\n",
       "      <th>danceability</th>\n",
       "      <th>key</th>\n",
       "      <th>loudness</th>\n",
       "      <th>acousticness</th>\n",
       "      <th>speechiness</th>\n",
       "      <th>instrumentalness</th>\n",
       "      <th>liveness</th>\n",
       "      <th>valence</th>\n",
       "      <th>tempo</th>\n",
       "      <th>duration_ms</th>\n",
       "      <th>genre</th>\n",
       "    </tr>\n",
       "  </thead>\n",
       "  <tbody>\n",
       "    <tr>\n",
       "      <th>0</th>\n",
       "      <td>0</td>\n",
       "      <td>The Weeknd</td>\n",
       "      <td>After Hours</td>\n",
       "      <td>Blinding Lights</td>\n",
       "      <td>0VjIjW4GlUZAMYd2vXMi3b</td>\n",
       "      <td>0.730</td>\n",
       "      <td>0.514</td>\n",
       "      <td>1</td>\n",
       "      <td>-5.934</td>\n",
       "      <td>0.00146</td>\n",
       "      <td>0.0598</td>\n",
       "      <td>0.000095</td>\n",
       "      <td>0.0897</td>\n",
       "      <td>0.334</td>\n",
       "      <td>171.005</td>\n",
       "      <td>200040</td>\n",
       "      <td>R&amp;B/Soul</td>\n",
       "    </tr>\n",
       "    <tr>\n",
       "      <th>1</th>\n",
       "      <td>1</td>\n",
       "      <td>Tones And I</td>\n",
       "      <td>Dance Monkey</td>\n",
       "      <td>Dance Monkey</td>\n",
       "      <td>1rgnBhdG2JDFTbYkYRZAku</td>\n",
       "      <td>0.593</td>\n",
       "      <td>0.825</td>\n",
       "      <td>6</td>\n",
       "      <td>-6.401</td>\n",
       "      <td>0.68800</td>\n",
       "      <td>0.0988</td>\n",
       "      <td>0.000161</td>\n",
       "      <td>0.1700</td>\n",
       "      <td>0.540</td>\n",
       "      <td>98.078</td>\n",
       "      <td>209755</td>\n",
       "      <td>Alternative/Indie</td>\n",
       "    </tr>\n",
       "    <tr>\n",
       "      <th>2</th>\n",
       "      <td>2</td>\n",
       "      <td>Roddy Ricch</td>\n",
       "      <td>Please Excuse Me For Being Antisocial</td>\n",
       "      <td>The Box</td>\n",
       "      <td>0nbXyq5TXYPCO7pr3N8S4I</td>\n",
       "      <td>0.586</td>\n",
       "      <td>0.896</td>\n",
       "      <td>10</td>\n",
       "      <td>-6.687</td>\n",
       "      <td>0.10400</td>\n",
       "      <td>0.0559</td>\n",
       "      <td>0.000000</td>\n",
       "      <td>0.7900</td>\n",
       "      <td>0.642</td>\n",
       "      <td>116.971</td>\n",
       "      <td>196653</td>\n",
       "      <td>Hip-Hop/Rap</td>\n",
       "    </tr>\n",
       "    <tr>\n",
       "      <th>3</th>\n",
       "      <td>3</td>\n",
       "      <td>SAINt JHN</td>\n",
       "      <td>Roses (Imanbek Remix)</td>\n",
       "      <td>Roses - Imanbek Remix</td>\n",
       "      <td>2Wo6QQD1KMDWeFkkjLqwx5</td>\n",
       "      <td>0.721</td>\n",
       "      <td>0.785</td>\n",
       "      <td>8</td>\n",
       "      <td>-5.457</td>\n",
       "      <td>0.01490</td>\n",
       "      <td>0.0506</td>\n",
       "      <td>0.004320</td>\n",
       "      <td>0.2850</td>\n",
       "      <td>0.894</td>\n",
       "      <td>121.962</td>\n",
       "      <td>176219</td>\n",
       "      <td>Dance/Electronic</td>\n",
       "    </tr>\n",
       "    <tr>\n",
       "      <th>4</th>\n",
       "      <td>4</td>\n",
       "      <td>Dua Lipa</td>\n",
       "      <td>Future Nostalgia</td>\n",
       "      <td>Don't Start Now</td>\n",
       "      <td>3PfIrDoz19wz7qK7tYeu62</td>\n",
       "      <td>0.793</td>\n",
       "      <td>0.793</td>\n",
       "      <td>11</td>\n",
       "      <td>-4.521</td>\n",
       "      <td>0.01230</td>\n",
       "      <td>0.0830</td>\n",
       "      <td>0.000000</td>\n",
       "      <td>0.0951</td>\n",
       "      <td>0.679</td>\n",
       "      <td>123.950</td>\n",
       "      <td>183290</td>\n",
       "      <td>Nu-disco</td>\n",
       "    </tr>\n",
       "  </tbody>\n",
       "</table>\n",
       "</div>"
      ],
      "text/plain": [
       "   Unnamed: 0       artist                                  album  \\\n",
       "0           0   The Weeknd                            After Hours   \n",
       "1           1  Tones And I                           Dance Monkey   \n",
       "2           2  Roddy Ricch  Please Excuse Me For Being Antisocial   \n",
       "3           3    SAINt JHN                  Roses (Imanbek Remix)   \n",
       "4           4     Dua Lipa                       Future Nostalgia   \n",
       "\n",
       "              track_name                track_id  energy  danceability  key  \\\n",
       "0        Blinding Lights  0VjIjW4GlUZAMYd2vXMi3b   0.730         0.514    1   \n",
       "1           Dance Monkey  1rgnBhdG2JDFTbYkYRZAku   0.593         0.825    6   \n",
       "2                The Box  0nbXyq5TXYPCO7pr3N8S4I   0.586         0.896   10   \n",
       "3  Roses - Imanbek Remix  2Wo6QQD1KMDWeFkkjLqwx5   0.721         0.785    8   \n",
       "4        Don't Start Now  3PfIrDoz19wz7qK7tYeu62   0.793         0.793   11   \n",
       "\n",
       "   loudness  acousticness  speechiness  instrumentalness  liveness  valence  \\\n",
       "0    -5.934       0.00146       0.0598          0.000095    0.0897    0.334   \n",
       "1    -6.401       0.68800       0.0988          0.000161    0.1700    0.540   \n",
       "2    -6.687       0.10400       0.0559          0.000000    0.7900    0.642   \n",
       "3    -5.457       0.01490       0.0506          0.004320    0.2850    0.894   \n",
       "4    -4.521       0.01230       0.0830          0.000000    0.0951    0.679   \n",
       "\n",
       "     tempo  duration_ms              genre  \n",
       "0  171.005       200040           R&B/Soul  \n",
       "1   98.078       209755  Alternative/Indie  \n",
       "2  116.971       196653        Hip-Hop/Rap  \n",
       "3  121.962       176219   Dance/Electronic  \n",
       "4  123.950       183290           Nu-disco  "
      ]
     },
     "execution_count": 21,
     "metadata": {},
     "output_type": "execute_result"
    }
   ],
   "source": [
    "df.head()"
   ]
  },
  {
   "cell_type": "markdown",
   "id": "62842359",
   "metadata": {},
   "source": [
    "## 3. Data clearing\n",
    "\n",
    "### Handling missing values."
   ]
  },
  {
   "cell_type": "code",
   "execution_count": 22,
   "id": "dae8c101",
   "metadata": {},
   "outputs": [
    {
     "data": {
      "text/plain": [
       "Unnamed: 0          0\n",
       "artist              0\n",
       "album               0\n",
       "track_name          0\n",
       "track_id            0\n",
       "energy              0\n",
       "danceability        0\n",
       "key                 0\n",
       "loudness            0\n",
       "acousticness        0\n",
       "speechiness         0\n",
       "instrumentalness    0\n",
       "liveness            0\n",
       "valence             0\n",
       "tempo               0\n",
       "duration_ms         0\n",
       "genre               0\n",
       "dtype: int64"
      ]
     },
     "execution_count": 22,
     "metadata": {},
     "output_type": "execute_result"
    }
   ],
   "source": [
    "df.isna().sum()"
   ]
  },
  {
   "cell_type": "markdown",
   "id": "2547307e",
   "metadata": {},
   "source": [
    "### Removing duplicate samples and features."
   ]
  },
  {
   "cell_type": "code",
   "execution_count": 23,
   "id": "2c48c5b1",
   "metadata": {},
   "outputs": [
    {
     "data": {
      "text/html": [
       "<div>\n",
       "<style scoped>\n",
       "    .dataframe tbody tr th:only-of-type {\n",
       "        vertical-align: middle;\n",
       "    }\n",
       "\n",
       "    .dataframe tbody tr th {\n",
       "        vertical-align: top;\n",
       "    }\n",
       "\n",
       "    .dataframe thead th {\n",
       "        text-align: right;\n",
       "    }\n",
       "</style>\n",
       "<table border=\"1\" class=\"dataframe\">\n",
       "  <thead>\n",
       "    <tr style=\"text-align: right;\">\n",
       "      <th></th>\n",
       "      <th>artist</th>\n",
       "      <th>album</th>\n",
       "      <th>track_name</th>\n",
       "      <th>track_id</th>\n",
       "      <th>energy</th>\n",
       "      <th>danceability</th>\n",
       "      <th>key</th>\n",
       "      <th>loudness</th>\n",
       "      <th>acousticness</th>\n",
       "      <th>speechiness</th>\n",
       "      <th>instrumentalness</th>\n",
       "      <th>liveness</th>\n",
       "      <th>valence</th>\n",
       "      <th>tempo</th>\n",
       "      <th>duration_ms</th>\n",
       "      <th>genre</th>\n",
       "    </tr>\n",
       "    <tr>\n",
       "      <th>index</th>\n",
       "      <th></th>\n",
       "      <th></th>\n",
       "      <th></th>\n",
       "      <th></th>\n",
       "      <th></th>\n",
       "      <th></th>\n",
       "      <th></th>\n",
       "      <th></th>\n",
       "      <th></th>\n",
       "      <th></th>\n",
       "      <th></th>\n",
       "      <th></th>\n",
       "      <th></th>\n",
       "      <th></th>\n",
       "      <th></th>\n",
       "      <th></th>\n",
       "    </tr>\n",
       "  </thead>\n",
       "  <tbody>\n",
       "    <tr>\n",
       "      <th>0</th>\n",
       "      <td>The Weeknd</td>\n",
       "      <td>After Hours</td>\n",
       "      <td>Blinding Lights</td>\n",
       "      <td>0VjIjW4GlUZAMYd2vXMi3b</td>\n",
       "      <td>0.730</td>\n",
       "      <td>0.514</td>\n",
       "      <td>1</td>\n",
       "      <td>-5.934</td>\n",
       "      <td>0.00146</td>\n",
       "      <td>0.0598</td>\n",
       "      <td>0.000095</td>\n",
       "      <td>0.0897</td>\n",
       "      <td>0.334</td>\n",
       "      <td>171.005</td>\n",
       "      <td>200040</td>\n",
       "      <td>R&amp;B/Soul</td>\n",
       "    </tr>\n",
       "    <tr>\n",
       "      <th>1</th>\n",
       "      <td>Tones And I</td>\n",
       "      <td>Dance Monkey</td>\n",
       "      <td>Dance Monkey</td>\n",
       "      <td>1rgnBhdG2JDFTbYkYRZAku</td>\n",
       "      <td>0.593</td>\n",
       "      <td>0.825</td>\n",
       "      <td>6</td>\n",
       "      <td>-6.401</td>\n",
       "      <td>0.68800</td>\n",
       "      <td>0.0988</td>\n",
       "      <td>0.000161</td>\n",
       "      <td>0.1700</td>\n",
       "      <td>0.540</td>\n",
       "      <td>98.078</td>\n",
       "      <td>209755</td>\n",
       "      <td>Alternative/Indie</td>\n",
       "    </tr>\n",
       "  </tbody>\n",
       "</table>\n",
       "</div>"
      ],
      "text/plain": [
       "            artist         album       track_name                track_id  \\\n",
       "index                                                                       \n",
       "0       The Weeknd   After Hours  Blinding Lights  0VjIjW4GlUZAMYd2vXMi3b   \n",
       "1      Tones And I  Dance Monkey     Dance Monkey  1rgnBhdG2JDFTbYkYRZAku   \n",
       "\n",
       "       energy  danceability  key  loudness  acousticness  speechiness  \\\n",
       "index                                                                   \n",
       "0       0.730         0.514    1    -5.934       0.00146       0.0598   \n",
       "1       0.593         0.825    6    -6.401       0.68800       0.0988   \n",
       "\n",
       "       instrumentalness  liveness  valence    tempo  duration_ms  \\\n",
       "index                                                              \n",
       "0              0.000095    0.0897    0.334  171.005       200040   \n",
       "1              0.000161    0.1700    0.540   98.078       209755   \n",
       "\n",
       "                   genre  \n",
       "index                     \n",
       "0               R&B/Soul  \n",
       "1      Alternative/Indie  "
      ]
     },
     "execution_count": 23,
     "metadata": {},
     "output_type": "execute_result"
    }
   ],
   "source": [
    "df.set_index('Unnamed: 0', inplace=True)\n",
    "df.rename_axis('index', inplace=True)\n",
    "df.head(2)"
   ]
  },
  {
   "cell_type": "code",
   "execution_count": 24,
   "id": "3a6bd900",
   "metadata": {},
   "outputs": [],
   "source": [
    "df = df.drop_duplicates()"
   ]
  },
  {
   "cell_type": "code",
   "execution_count": 25,
   "id": "b62117a9",
   "metadata": {},
   "outputs": [],
   "source": [
    "df = df.loc[:, ~df.columns.duplicated()]"
   ]
  },
  {
   "cell_type": "markdown",
   "id": "149fb44c",
   "metadata": {},
   "source": [
    "\n",
    "### Finding the outliers."
   ]
  },
  {
   "cell_type": "code",
   "execution_count": 26,
   "id": "fafb3758",
   "metadata": {},
   "outputs": [],
   "source": [
    "def find_outliers(df, column):\n",
    "    Q1 = df[column].quantile(0.25)\n",
    "    Q3 = df[column].quantile(0.75)\n",
    "    IQR = Q3 - Q1\n",
    "    lower_bound = Q1 - 1.5 * IQR\n",
    "    upper_bound = Q3 + 1.5 * IQR\n",
    "    outliers = df[(df[column] < lower_bound) | (df[column] > upper_bound)][[column]]\n",
    "    return outliers"
   ]
  },
  {
   "cell_type": "code",
   "execution_count": 27,
   "id": "bcc975f8",
   "metadata": {},
   "outputs": [
    {
     "name": "stdout",
     "output_type": "stream",
     "text": [
      "No outliers found in energy\n",
      "Outliers in danceability:\n",
      "       danceability\n",
      "index              \n",
      "16            0.459\n",
      "44            0.351\n",
      "47            0.464\n",
      "No outliers found in key\n",
      "Outliers in loudness:\n",
      "       loudness\n",
      "index          \n",
      "24      -14.454\n",
      "Outliers in acousticness:\n",
      "       acousticness\n",
      "index              \n",
      "1             0.688\n",
      "7             0.731\n",
      "9             0.751\n",
      "18            0.837\n",
      "24            0.902\n",
      "44            0.934\n",
      "47            0.866\n",
      "Outliers in speechiness:\n",
      "       speechiness\n",
      "index             \n",
      "19           0.487\n",
      "26           0.375\n",
      "27           0.375\n",
      "29           0.342\n",
      "38           0.389\n",
      "43           0.379\n",
      "Outliers in instrumentalness:\n",
      "       instrumentalness\n",
      "index                  \n",
      "0              0.000095\n",
      "1              0.000161\n",
      "3              0.004320\n",
      "10             0.000134\n",
      "12             0.002440\n",
      "24             0.657000\n",
      "26             0.130000\n",
      "33             0.000209\n",
      "34             0.001880\n",
      "39             0.000064\n",
      "41             0.001090\n",
      "48             0.000658\n",
      "Outliers in liveness:\n",
      "       liveness\n",
      "index          \n",
      "2         0.790\n",
      "7         0.696\n",
      "41        0.792\n",
      "No outliers found in valence\n",
      "No outliers found in tempo\n",
      "Outliers in duration_ms:\n",
      "       duration_ms\n",
      "index             \n",
      "43          295177\n",
      "49          312820\n"
     ]
    }
   ],
   "source": [
    "list_columns_numbers = df.select_dtypes(include=['float64', 'int64']).columns\n",
    "for column in list_columns_numbers: \n",
    "    outliers = find_outliers(df, column) \n",
    "    if outliers.empty: \n",
    "        print(f\"No outliers found in {column}\") \n",
    "    else: \n",
    "        print(f\"Outliers in {column}:\") \n",
    "        print(outliers)"
   ]
  },
  {
   "cell_type": "markdown",
   "id": "fb79cd83",
   "metadata": {},
   "source": [
    "\n",
    "\n",
    "## 4. Exploratory Data Analysis (EDA)"
   ]
  },
  {
   "cell_type": "markdown",
   "id": "a4da47c6",
   "metadata": {},
   "source": [
    "\n",
    "### 4.1 Dataset Overview."
   ]
  },
  {
   "cell_type": "code",
   "execution_count": 28,
   "id": "9e5d3f3a",
   "metadata": {},
   "outputs": [
    {
     "name": "stdout",
     "output_type": "stream",
     "text": [
      "Number of observations: 50\n"
     ]
    }
   ],
   "source": [
    "print(f\"Number of observations: {df.shape[0]}\")"
   ]
  },
  {
   "cell_type": "code",
   "execution_count": 29,
   "id": "11b5fc9a",
   "metadata": {},
   "outputs": [
    {
     "name": "stdout",
     "output_type": "stream",
     "text": [
      "Number of features: 16\n"
     ]
    }
   ],
   "source": [
    "print(f\"Number of features: {df.shape[1]}\")"
   ]
  },
  {
   "cell_type": "markdown",
   "id": "64c3774a",
   "metadata": {},
   "source": [
    "\n",
    "### 4.2 Categorical and Numeric Features.\n"
   ]
  },
  {
   "cell_type": "code",
   "execution_count": 30,
   "id": "7023c2f7",
   "metadata": {},
   "outputs": [
    {
     "name": "stdout",
     "output_type": "stream",
     "text": [
      "Categorical Features: ['artist', 'album', 'track_name', 'track_id', 'genre']\n"
     ]
    }
   ],
   "source": [
    "categorical_features = df.dtypes[df.dtypes == 'object'].index.tolist()\n",
    "print(\"Categorical Features:\", categorical_features)"
   ]
  },
  {
   "cell_type": "code",
   "execution_count": 31,
   "id": "45c4999e",
   "metadata": {},
   "outputs": [
    {
     "name": "stdout",
     "output_type": "stream",
     "text": [
      "Numeric Features: ['energy', 'danceability', 'key', 'loudness', 'acousticness', 'speechiness', 'instrumentalness', 'liveness', 'valence', 'tempo', 'duration_ms']\n"
     ]
    }
   ],
   "source": [
    "numeric_features = df.dtypes[(df.dtypes == 'int64') | (df.dtypes == 'float64')].index.tolist()\n",
    "print(\"Numeric Features:\", numeric_features)"
   ]
  },
  {
   "cell_type": "markdown",
   "id": "b89cfa9d",
   "metadata": {},
   "source": [
    "\n",
    "### 4.3 Artists Analysis.\n",
    "- Identifing artists with more than one popular track.\n",
    "- Determining the most popular artist.\n",
    "- Counting the total number of unique artists."
   ]
  },
  {
   "cell_type": "code",
   "execution_count": 32,
   "id": "8bd91513",
   "metadata": {},
   "outputs": [
    {
     "name": "stdout",
     "output_type": "stream",
     "text": [
      "There are artists that have more than 1 popular track: True\n"
     ]
    }
   ],
   "source": [
    "print(f\"There are artists that have more than 1 popular track: {df['artist'].duplicated().any()}\")"
   ]
  },
  {
   "cell_type": "code",
   "execution_count": 33,
   "id": "b887f105",
   "metadata": {},
   "outputs": [
    {
     "name": "stdout",
     "output_type": "stream",
     "text": [
      "Artists with more than one popular track: ['Dua Lipa', 'Billie Eilish', 'Travis Scott', 'Harry Styles', 'Lewis Capaldi', 'Justin Bieber', 'Post Malone']\n"
     ]
    }
   ],
   "source": [
    "artist_counts = df['artist'].value_counts()\n",
    "print(f\"Artists with more than one popular track: {(artist_counts[artist_counts>1]).index.tolist()}\")"
   ]
  },
  {
   "cell_type": "code",
   "execution_count": 34,
   "id": "22d15474",
   "metadata": {},
   "outputs": [
    {
     "name": "stdout",
     "output_type": "stream",
     "text": [
      "Number of artists with multiple tracks: 7\n"
     ]
    }
   ],
   "source": [
    "print(f\"Number of artists with multiple tracks: {len(artist_counts[artist_counts>1])}\")"
   ]
  },
  {
   "cell_type": "code",
   "execution_count": 35,
   "id": "b648e705",
   "metadata": {},
   "outputs": [
    {
     "name": "stdout",
     "output_type": "stream",
     "text": [
      "Most popular artists: ['Dua Lipa', 'Billie Eilish', 'Travis Scott']\n"
     ]
    }
   ],
   "source": [
    "max_count = artist_counts.max()\n",
    "print(f\"Most popular artists: {(artist_counts[artist_counts == max_count]).index.tolist()}\")"
   ]
  },
  {
   "cell_type": "code",
   "execution_count": 36,
   "id": "a0d95916",
   "metadata": {},
   "outputs": [
    {
     "data": {
      "text/plain": [
       "artist\n",
       "Dua Lipa         3\n",
       "Billie Eilish    3\n",
       "Travis Scott     3\n",
       "Harry Styles     2\n",
       "Lewis Capaldi    2\n",
       "Justin Bieber    2\n",
       "Post Malone      2\n",
       "Name: count, dtype: int64"
      ]
     },
     "execution_count": 36,
     "metadata": {},
     "output_type": "execute_result"
    }
   ],
   "source": [
    "artist_counts[artist_counts > 1] # optional"
   ]
  },
  {
   "cell_type": "code",
   "execution_count": 37,
   "id": "27a4975e",
   "metadata": {},
   "outputs": [
    {
     "name": "stdout",
     "output_type": "stream",
     "text": [
      "Total number of artists: 40\n"
     ]
    }
   ],
   "source": [
    "print(f\"Total number of artists: {len(df['artist'].unique())}\")"
   ]
  },
  {
   "cell_type": "markdown",
   "id": "e36751ac",
   "metadata": {},
   "source": [
    "\n",
    "### 4.4 Albums Analysis.\n",
    "- Identifying albums with more than one popular tracks. \n",
    "- Counting the total number of unique albums.\n"
   ]
  },
  {
   "cell_type": "code",
   "execution_count": 38,
   "id": "343b986a",
   "metadata": {},
   "outputs": [
    {
     "name": "stdout",
     "output_type": "stream",
     "text": [
      "There are albums that have more than 1 popular track: True\n"
     ]
    }
   ],
   "source": [
    "print(f\"There are albums that have more than 1 popular track: {df['album'].duplicated().any()}\")"
   ]
  },
  {
   "cell_type": "code",
   "execution_count": 39,
   "id": "4eb3568b",
   "metadata": {},
   "outputs": [
    {
     "name": "stdout",
     "output_type": "stream",
     "text": [
      "Albums with more than one popular track: ['Future Nostalgia', \"Hollywood's Bleeding\", 'Fine Line', 'Changes']\n"
     ]
    }
   ],
   "source": [
    "album_counts = df['album'].value_counts()\n",
    "print(f\"Albums with more than one popular track: {(album_counts[album_counts>1]).index.tolist()}\")"
   ]
  },
  {
   "cell_type": "code",
   "execution_count": 40,
   "id": "a943c673",
   "metadata": {},
   "outputs": [
    {
     "name": "stdout",
     "output_type": "stream",
     "text": [
      "Number of albums with multiple tracks: 4\n"
     ]
    }
   ],
   "source": [
    "print(f\"Number of albums with multiple tracks: {len(album_counts[album_counts>1])}\")"
   ]
  },
  {
   "cell_type": "code",
   "execution_count": 41,
   "id": "3ea09dd3",
   "metadata": {},
   "outputs": [
    {
     "data": {
      "text/plain": [
       "album\n",
       "Future Nostalgia        3\n",
       "Hollywood's Bleeding    2\n",
       "Fine Line               2\n",
       "Changes                 2\n",
       "Name: count, dtype: int64"
      ]
     },
     "execution_count": 41,
     "metadata": {},
     "output_type": "execute_result"
    }
   ],
   "source": [
    "album_counts[album_counts>1] #optional"
   ]
  },
  {
   "cell_type": "code",
   "execution_count": 42,
   "id": "57d138ae",
   "metadata": {},
   "outputs": [
    {
     "name": "stdout",
     "output_type": "stream",
     "text": [
      "Total number of albums: 45\n"
     ]
    }
   ],
   "source": [
    "print(f\"Total number of albums: {len(df['album'].unique())}\")"
   ]
  },
  {
   "cell_type": "markdown",
   "id": "cf845fbc",
   "metadata": {},
   "source": [
    "\n",
    "### 4.5 Tracks Analysis.\n",
    "#### Analyzing tracks with danceability scores above 0.7 and below 0.4."
   ]
  },
  {
   "cell_type": "code",
   "execution_count": 62,
   "id": "ad2c8bc4",
   "metadata": {},
   "outputs": [
    {
     "name": "stdout",
     "output_type": "stream",
     "text": [
      "Tracks with Danceability > 0.7:\n",
      "                                          track_name  danceability\n",
      "index                                                             \n",
      "1                                       Dance Monkey         0.825\n",
      "2                                            The Box         0.896\n",
      "3                              Roses - Imanbek Remix         0.785\n",
      "4                                    Don't Start Now         0.793\n",
      "5                       ROCKSTAR (feat. Roddy Ricch)         0.746\n",
      "7                   death bed (coffee for your head)         0.726\n",
      "8                                            Falling         0.784\n",
      "10                                              Tusa         0.803\n",
      "13                                   Blueberry Faygo         0.774\n",
      "14                          Intentions (feat. Quavo)         0.806\n",
      "15                                      Toosie Slide         0.830\n",
      "17                                            Say So         0.787\n",
      "18                                          Memories         0.764\n",
      "19                        Life Is Good (feat. Drake)         0.795\n",
      "20                  Savage Love (Laxed - Siren Beat)         0.767\n",
      "22                                       Breaking Me         0.789\n",
      "24                               everything i wanted         0.704\n",
      "25                                          Señorita         0.759\n",
      "26                                           bad guy         0.701\n",
      "27                   WAP (feat. Megan Thee Stallion)         0.935\n",
      "28                                       Sunday Best         0.878\n",
      "29                       Godzilla (feat. Juice WRLD)         0.808\n",
      "31                                    Break My Heart         0.730\n",
      "32                                          Dynamite         0.746\n",
      "33                  Supalonely (feat. Gus Dapperton)         0.862\n",
      "37     Sunflower - Spider-Man: Into the Spider-Verse         0.755\n",
      "38                                             Hawái         0.783\n",
      "39                                           Ride It         0.880\n",
      "40                                        goosebumps         0.841\n",
      "41                         RITMO (Bad Boys For Life)         0.723\n",
      "42                                        THE SCOTTS         0.716\n",
      "49                                        SICKO MODE         0.834\n"
     ]
    }
   ],
   "source": [
    "high_danceability_tracks = df[df['danceability'] > 0.7]\n",
    "print(\"Tracks with Danceability > 0.7:\")\n",
    "print(high_danceability_tracks[['track_name', 'danceability']])"
   ]
  },
  {
   "cell_type": "code",
   "execution_count": 63,
   "id": "381941c0",
   "metadata": {},
   "outputs": [
    {
     "name": "stdout",
     "output_type": "stream",
     "text": [
      "Tracks with Danceability < 0.4:\n",
      "                 track_name  danceability\n",
      "index                                    \n",
      "44     lovely (with Khalid)         0.351\n"
     ]
    }
   ],
   "source": [
    "low_danceability_tracks = df[df['danceability'] < 0.4]\n",
    "print(\"Tracks with Danceability < 0.4:\")\n",
    "print(low_danceability_tracks[['track_name', 'danceability']])"
   ]
  },
  {
   "cell_type": "markdown",
   "id": "bf092dbb",
   "metadata": {},
   "source": [
    "#### Analyzing tracks with loudness above -5 and below -8."
   ]
  },
  {
   "cell_type": "code",
   "execution_count": 45,
   "id": "d64ff78c",
   "metadata": {},
   "outputs": [
    {
     "name": "stdout",
     "output_type": "stream",
     "text": [
      "Tracks with Loudness > -5:\n",
      "                                          track_name  loudness\n",
      "index                                                         \n",
      "4                                    Don't Start Now    -4.521\n",
      "6                                   Watermelon Sugar    -4.209\n",
      "10                                              Tusa    -3.280\n",
      "12                                           Circles    -3.497\n",
      "16                                     Before You Go    -4.858\n",
      "17                                            Say So    -4.577\n",
      "21                                         Adore You    -3.675\n",
      "23                            Mood (feat. iann dior)    -3.558\n",
      "31                                    Break My Heart    -3.434\n",
      "32                                          Dynamite    -4.410\n",
      "33                  Supalonely (feat. Gus Dapperton)    -4.746\n",
      "35                   Rain On Me (with Ariana Grande)    -3.764\n",
      "37     Sunflower - Spider-Man: Into the Spider-Verse    -4.368\n",
      "38                                             Hawái    -3.454\n",
      "39                                           Ride It    -4.258\n",
      "40                                        goosebumps    -3.370\n",
      "43                                           Safaera    -4.074\n",
      "48                                          Physical    -3.756\n",
      "49                                        SICKO MODE    -3.714\n"
     ]
    }
   ],
   "source": [
    "loud_tracks = df[df['loudness'] > -5]\n",
    "print(\"Tracks with Loudness > -5:\")\n",
    "print(loud_tracks[['track_name', 'loudness']])"
   ]
  },
  {
   "cell_type": "code",
   "execution_count": 46,
   "id": "cb0152de",
   "metadata": {},
   "outputs": [
    {
     "name": "stdout",
     "output_type": "stream",
     "text": [
      "Tracks with Loudness < -8:\n",
      "                                           track_name  loudness\n",
      "index                                                          \n",
      "7                    death bed (coffee for your head)    -8.765\n",
      "8                                             Falling    -8.756\n",
      "15                                       Toosie Slide    -8.820\n",
      "20                   Savage Love (Laxed - Siren Beat)    -8.520\n",
      "24                                everything i wanted   -14.454\n",
      "26                                            bad guy   -10.965\n",
      "36                                HIGHEST IN THE ROOM    -8.764\n",
      "44                               lovely (with Khalid)   -10.109\n",
      "47     If the World Was Ending - feat. Julia Michaels   -10.086\n"
     ]
    }
   ],
   "source": [
    "quiet_tracks = df[df['loudness'] < -8]\n",
    "print(\"Tracks with Loudness < -8:\")\n",
    "print(quiet_tracks[['track_name', 'loudness']])"
   ]
  },
  {
   "cell_type": "markdown",
   "id": "c64cc7f1",
   "metadata": {},
   "source": [
    "#### Identifying the longest and shortest tracks."
   ]
  },
  {
   "cell_type": "code",
   "execution_count": 65,
   "id": "447377dc",
   "metadata": {},
   "outputs": [
    {
     "name": "stdout",
     "output_type": "stream",
     "text": [
      "The longest track: SICKO MODE\n"
     ]
    }
   ],
   "source": [
    "print(f\"The longest track: {df.loc[df['duration_ms'].idxmax(), 'track_name']}\")"
   ]
  },
  {
   "cell_type": "code",
   "execution_count": 48,
   "id": "583f7491",
   "metadata": {},
   "outputs": [
    {
     "name": "stdout",
     "output_type": "stream",
     "text": [
      "The shortest track: Mood (feat. iann dior)\n"
     ]
    }
   ],
   "source": [
    "print(f\"The shortest track: {df.loc[df['duration_ms'].idxmin(), 'track_name']}\")"
   ]
  },
  {
   "cell_type": "markdown",
   "id": "fe56b35c",
   "metadata": {},
   "source": [
    "\n",
    "### 4.6 Genre Analysis.\n",
    "- Finding the most popular genre.\n",
    "- Identifying genres which has more that 2 tracks in top 50. \n",
    "- Finding genres with just one song in the top 50. \n",
    "- Counting the total number of genres.\n"
   ]
  },
  {
   "cell_type": "code",
   "execution_count": 49,
   "id": "297417bb",
   "metadata": {},
   "outputs": [
    {
     "name": "stdout",
     "output_type": "stream",
     "text": [
      "Most popular genre: Pop\n"
     ]
    }
   ],
   "source": [
    "genre_counts = df['genre'].value_counts()\n",
    "most_popular_genre = genre_counts.idxmax()\n",
    "print(f\"Most popular genre: {most_popular_genre}\")"
   ]
  },
  {
   "cell_type": "code",
   "execution_count": 50,
   "id": "626833f9",
   "metadata": {},
   "outputs": [
    {
     "name": "stdout",
     "output_type": "stream",
     "text": [
      "Most popular genres: \n",
      "genre\n",
      "Pop                  14\n",
      "Hip-Hop/Rap          13\n",
      "Dance/Electronic      5\n",
      "Alternative/Indie     4\n",
      "Name: count, dtype: int64\n"
     ]
    }
   ],
   "source": [
    "most_popular_genres = genre_counts[genre_counts>2]\n",
    "print(f\"Most popular genres: \\n{most_popular_genres}\")"
   ]
  },
  {
   "cell_type": "code",
   "execution_count": 51,
   "id": "fc10661c",
   "metadata": {},
   "outputs": [
    {
     "name": "stdout",
     "output_type": "stream",
     "text": [
      "Genres with only one song:\n",
      "genre\n",
      "R&B/Hip-Hop alternative               1\n",
      "Nu-disco                              1\n",
      "Pop/Soft Rock                         1\n",
      "Pop rap                               1\n",
      "Hip-Hop/Trap                          1\n",
      "Dance-pop/Disco                       1\n",
      "Disco-pop                             1\n",
      "Dreampop/Hip-Hop/R&B                  1\n",
      "Alternative/reggaeton/experimental    1\n",
      "Chamber pop                           1\n",
      "Name: count, dtype: int64\n"
     ]
    }
   ],
   "source": [
    "genres_one_song = genre_counts[genre_counts==1]\n",
    "print(f\"Genres with only one song:\\n{genres_one_song}\")"
   ]
  },
  {
   "cell_type": "code",
   "execution_count": 52,
   "id": "0ad44e6a",
   "metadata": {},
   "outputs": [
    {
     "name": "stdout",
     "output_type": "stream",
     "text": [
      "Total number of genres in the top 50: 16\n"
     ]
    }
   ],
   "source": [
    "print(f\"Total number of genres in the top 50: {len(df['genre'].unique())}\")"
   ]
  },
  {
   "cell_type": "markdown",
   "id": "7240c978",
   "metadata": {},
   "source": [
    "\n",
    "### 4.7 Correlation Analysis\n",
    "- Identifing strongly positively and negatively correlated features. \n",
    "- Identifing features that are not correlated."
   ]
  },
  {
   "cell_type": "code",
   "execution_count": 53,
   "id": "cb53d33b",
   "metadata": {},
   "outputs": [
    {
     "data": {
      "text/html": [
       "<div>\n",
       "<style scoped>\n",
       "    .dataframe tbody tr th:only-of-type {\n",
       "        vertical-align: middle;\n",
       "    }\n",
       "\n",
       "    .dataframe tbody tr th {\n",
       "        vertical-align: top;\n",
       "    }\n",
       "\n",
       "    .dataframe thead th {\n",
       "        text-align: right;\n",
       "    }\n",
       "</style>\n",
       "<table border=\"1\" class=\"dataframe\">\n",
       "  <thead>\n",
       "    <tr style=\"text-align: right;\">\n",
       "      <th></th>\n",
       "      <th>energy</th>\n",
       "      <th>danceability</th>\n",
       "      <th>key</th>\n",
       "      <th>loudness</th>\n",
       "      <th>acousticness</th>\n",
       "      <th>speechiness</th>\n",
       "      <th>instrumentalness</th>\n",
       "      <th>liveness</th>\n",
       "      <th>valence</th>\n",
       "      <th>tempo</th>\n",
       "      <th>duration_ms</th>\n",
       "    </tr>\n",
       "  </thead>\n",
       "  <tbody>\n",
       "    <tr>\n",
       "      <th>energy</th>\n",
       "      <td>1.000000</td>\n",
       "      <td>0.152552</td>\n",
       "      <td>0.062428</td>\n",
       "      <td>0.791640</td>\n",
       "      <td>-0.682479</td>\n",
       "      <td>0.074267</td>\n",
       "      <td>-0.385515</td>\n",
       "      <td>0.069487</td>\n",
       "      <td>0.393453</td>\n",
       "      <td>0.075191</td>\n",
       "      <td>0.081971</td>\n",
       "    </tr>\n",
       "    <tr>\n",
       "      <th>danceability</th>\n",
       "      <td>0.152552</td>\n",
       "      <td>1.000000</td>\n",
       "      <td>0.285036</td>\n",
       "      <td>0.167147</td>\n",
       "      <td>-0.359135</td>\n",
       "      <td>0.226148</td>\n",
       "      <td>-0.017706</td>\n",
       "      <td>-0.006648</td>\n",
       "      <td>0.479953</td>\n",
       "      <td>0.168956</td>\n",
       "      <td>-0.033763</td>\n",
       "    </tr>\n",
       "    <tr>\n",
       "      <th>key</th>\n",
       "      <td>0.062428</td>\n",
       "      <td>0.285036</td>\n",
       "      <td>1.000000</td>\n",
       "      <td>-0.009178</td>\n",
       "      <td>-0.113394</td>\n",
       "      <td>-0.094965</td>\n",
       "      <td>0.020802</td>\n",
       "      <td>0.278672</td>\n",
       "      <td>0.120007</td>\n",
       "      <td>0.080475</td>\n",
       "      <td>-0.003345</td>\n",
       "    </tr>\n",
       "    <tr>\n",
       "      <th>loudness</th>\n",
       "      <td>0.791640</td>\n",
       "      <td>0.167147</td>\n",
       "      <td>-0.009178</td>\n",
       "      <td>1.000000</td>\n",
       "      <td>-0.498695</td>\n",
       "      <td>-0.021693</td>\n",
       "      <td>-0.553735</td>\n",
       "      <td>-0.069939</td>\n",
       "      <td>0.406772</td>\n",
       "      <td>0.102097</td>\n",
       "      <td>0.064130</td>\n",
       "    </tr>\n",
       "    <tr>\n",
       "      <th>acousticness</th>\n",
       "      <td>-0.682479</td>\n",
       "      <td>-0.359135</td>\n",
       "      <td>-0.113394</td>\n",
       "      <td>-0.498695</td>\n",
       "      <td>1.000000</td>\n",
       "      <td>-0.135392</td>\n",
       "      <td>0.352184</td>\n",
       "      <td>-0.128384</td>\n",
       "      <td>-0.243192</td>\n",
       "      <td>-0.241119</td>\n",
       "      <td>-0.010988</td>\n",
       "    </tr>\n",
       "    <tr>\n",
       "      <th>speechiness</th>\n",
       "      <td>0.074267</td>\n",
       "      <td>0.226148</td>\n",
       "      <td>-0.094965</td>\n",
       "      <td>-0.021693</td>\n",
       "      <td>-0.135392</td>\n",
       "      <td>1.000000</td>\n",
       "      <td>0.028948</td>\n",
       "      <td>-0.142957</td>\n",
       "      <td>0.053867</td>\n",
       "      <td>0.215504</td>\n",
       "      <td>0.366976</td>\n",
       "    </tr>\n",
       "    <tr>\n",
       "      <th>instrumentalness</th>\n",
       "      <td>-0.385515</td>\n",
       "      <td>-0.017706</td>\n",
       "      <td>0.020802</td>\n",
       "      <td>-0.553735</td>\n",
       "      <td>0.352184</td>\n",
       "      <td>0.028948</td>\n",
       "      <td>1.000000</td>\n",
       "      <td>-0.087034</td>\n",
       "      <td>-0.203283</td>\n",
       "      <td>0.018853</td>\n",
       "      <td>0.184709</td>\n",
       "    </tr>\n",
       "    <tr>\n",
       "      <th>liveness</th>\n",
       "      <td>0.069487</td>\n",
       "      <td>-0.006648</td>\n",
       "      <td>0.278672</td>\n",
       "      <td>-0.069939</td>\n",
       "      <td>-0.128384</td>\n",
       "      <td>-0.142957</td>\n",
       "      <td>-0.087034</td>\n",
       "      <td>1.000000</td>\n",
       "      <td>-0.033366</td>\n",
       "      <td>0.025457</td>\n",
       "      <td>-0.090188</td>\n",
       "    </tr>\n",
       "    <tr>\n",
       "      <th>valence</th>\n",
       "      <td>0.393453</td>\n",
       "      <td>0.479953</td>\n",
       "      <td>0.120007</td>\n",
       "      <td>0.406772</td>\n",
       "      <td>-0.243192</td>\n",
       "      <td>0.053867</td>\n",
       "      <td>-0.203283</td>\n",
       "      <td>-0.033366</td>\n",
       "      <td>1.000000</td>\n",
       "      <td>0.045089</td>\n",
       "      <td>-0.039794</td>\n",
       "    </tr>\n",
       "    <tr>\n",
       "      <th>tempo</th>\n",
       "      <td>0.075191</td>\n",
       "      <td>0.168956</td>\n",
       "      <td>0.080475</td>\n",
       "      <td>0.102097</td>\n",
       "      <td>-0.241119</td>\n",
       "      <td>0.215504</td>\n",
       "      <td>0.018853</td>\n",
       "      <td>0.025457</td>\n",
       "      <td>0.045089</td>\n",
       "      <td>1.000000</td>\n",
       "      <td>0.130328</td>\n",
       "    </tr>\n",
       "    <tr>\n",
       "      <th>duration_ms</th>\n",
       "      <td>0.081971</td>\n",
       "      <td>-0.033763</td>\n",
       "      <td>-0.003345</td>\n",
       "      <td>0.064130</td>\n",
       "      <td>-0.010988</td>\n",
       "      <td>0.366976</td>\n",
       "      <td>0.184709</td>\n",
       "      <td>-0.090188</td>\n",
       "      <td>-0.039794</td>\n",
       "      <td>0.130328</td>\n",
       "      <td>1.000000</td>\n",
       "    </tr>\n",
       "  </tbody>\n",
       "</table>\n",
       "</div>"
      ],
      "text/plain": [
       "                    energy  danceability       key  loudness  acousticness  \\\n",
       "energy            1.000000      0.152552  0.062428  0.791640     -0.682479   \n",
       "danceability      0.152552      1.000000  0.285036  0.167147     -0.359135   \n",
       "key               0.062428      0.285036  1.000000 -0.009178     -0.113394   \n",
       "loudness          0.791640      0.167147 -0.009178  1.000000     -0.498695   \n",
       "acousticness     -0.682479     -0.359135 -0.113394 -0.498695      1.000000   \n",
       "speechiness       0.074267      0.226148 -0.094965 -0.021693     -0.135392   \n",
       "instrumentalness -0.385515     -0.017706  0.020802 -0.553735      0.352184   \n",
       "liveness          0.069487     -0.006648  0.278672 -0.069939     -0.128384   \n",
       "valence           0.393453      0.479953  0.120007  0.406772     -0.243192   \n",
       "tempo             0.075191      0.168956  0.080475  0.102097     -0.241119   \n",
       "duration_ms       0.081971     -0.033763 -0.003345  0.064130     -0.010988   \n",
       "\n",
       "                  speechiness  instrumentalness  liveness   valence     tempo  \\\n",
       "energy               0.074267         -0.385515  0.069487  0.393453  0.075191   \n",
       "danceability         0.226148         -0.017706 -0.006648  0.479953  0.168956   \n",
       "key                 -0.094965          0.020802  0.278672  0.120007  0.080475   \n",
       "loudness            -0.021693         -0.553735 -0.069939  0.406772  0.102097   \n",
       "acousticness        -0.135392          0.352184 -0.128384 -0.243192 -0.241119   \n",
       "speechiness          1.000000          0.028948 -0.142957  0.053867  0.215504   \n",
       "instrumentalness     0.028948          1.000000 -0.087034 -0.203283  0.018853   \n",
       "liveness            -0.142957         -0.087034  1.000000 -0.033366  0.025457   \n",
       "valence              0.053867         -0.203283 -0.033366  1.000000  0.045089   \n",
       "tempo                0.215504          0.018853  0.025457  0.045089  1.000000   \n",
       "duration_ms          0.366976          0.184709 -0.090188 -0.039794  0.130328   \n",
       "\n",
       "                  duration_ms  \n",
       "energy               0.081971  \n",
       "danceability        -0.033763  \n",
       "key                 -0.003345  \n",
       "loudness             0.064130  \n",
       "acousticness        -0.010988  \n",
       "speechiness          0.366976  \n",
       "instrumentalness     0.184709  \n",
       "liveness            -0.090188  \n",
       "valence             -0.039794  \n",
       "tempo                0.130328  \n",
       "duration_ms          1.000000  "
      ]
     },
     "execution_count": 53,
     "metadata": {},
     "output_type": "execute_result"
    }
   ],
   "source": [
    "data = df.drop(categorical_features, axis=1)\n",
    "matrix = data.corr()\n",
    "matrix"
   ]
  },
  {
   "cell_type": "code",
   "execution_count": 54,
   "id": "10f20568",
   "metadata": {},
   "outputs": [
    {
     "name": "stdout",
     "output_type": "stream",
     "text": [
      "Features with strong positive correlation:\n",
      "           energy  loudness\n",
      "energy        NaN   0.79164\n",
      "loudness  0.79164       NaN\n"
     ]
    }
   ],
   "source": [
    "strong_positive_corr = matrix[(matrix>0.7)&(matrix<1)]\n",
    "strong_positive_corr = strong_positive_corr.dropna(how='all').dropna(axis=1, how='all')\n",
    "print(f\"Features with strong positive correlation:\\n{strong_positive_corr}\")"
   ]
  },
  {
   "cell_type": "code",
   "execution_count": 55,
   "id": "2791c45c",
   "metadata": {},
   "outputs": [
    {
     "name": "stdout",
     "output_type": "stream",
     "text": [
      "Features with strong negative correlation:\n",
      "Empty DataFrame\n",
      "Columns: []\n",
      "Index: []\n"
     ]
    }
   ],
   "source": [
    "stron_negative_corr = matrix[(matrix<-0.7)]\n",
    "stron_negative_corr = stron_negative_corr.dropna(how='all').dropna(axis=1, how='all')\n",
    "print(f\"Features with strong negative correlation:\\n{stron_negative_corr}\")"
   ]
  },
  {
   "cell_type": "code",
   "execution_count": 56,
   "id": "822a6471",
   "metadata": {},
   "outputs": [
    {
     "name": "stdout",
     "output_type": "stream",
     "text": [
      "Features that are not correlated \n"
     ]
    },
    {
     "data": {
      "text/html": [
       "<div>\n",
       "<style scoped>\n",
       "    .dataframe tbody tr th:only-of-type {\n",
       "        vertical-align: middle;\n",
       "    }\n",
       "\n",
       "    .dataframe tbody tr th {\n",
       "        vertical-align: top;\n",
       "    }\n",
       "\n",
       "    .dataframe thead th {\n",
       "        text-align: right;\n",
       "    }\n",
       "</style>\n",
       "<table border=\"1\" class=\"dataframe\">\n",
       "  <thead>\n",
       "    <tr style=\"text-align: right;\">\n",
       "      <th></th>\n",
       "      <th>energy</th>\n",
       "      <th>danceability</th>\n",
       "      <th>key</th>\n",
       "      <th>loudness</th>\n",
       "      <th>acousticness</th>\n",
       "      <th>speechiness</th>\n",
       "      <th>instrumentalness</th>\n",
       "      <th>liveness</th>\n",
       "      <th>valence</th>\n",
       "      <th>tempo</th>\n",
       "      <th>duration_ms</th>\n",
       "    </tr>\n",
       "  </thead>\n",
       "  <tbody>\n",
       "    <tr>\n",
       "      <th>energy</th>\n",
       "      <td>NaN</td>\n",
       "      <td>NaN</td>\n",
       "      <td>0.062428</td>\n",
       "      <td>NaN</td>\n",
       "      <td>NaN</td>\n",
       "      <td>0.074267</td>\n",
       "      <td>NaN</td>\n",
       "      <td>0.069487</td>\n",
       "      <td>NaN</td>\n",
       "      <td>0.075191</td>\n",
       "      <td>0.081971</td>\n",
       "    </tr>\n",
       "    <tr>\n",
       "      <th>danceability</th>\n",
       "      <td>NaN</td>\n",
       "      <td>NaN</td>\n",
       "      <td>NaN</td>\n",
       "      <td>NaN</td>\n",
       "      <td>NaN</td>\n",
       "      <td>NaN</td>\n",
       "      <td>-0.017706</td>\n",
       "      <td>-0.006648</td>\n",
       "      <td>NaN</td>\n",
       "      <td>NaN</td>\n",
       "      <td>-0.033763</td>\n",
       "    </tr>\n",
       "    <tr>\n",
       "      <th>key</th>\n",
       "      <td>0.062428</td>\n",
       "      <td>NaN</td>\n",
       "      <td>NaN</td>\n",
       "      <td>-0.009178</td>\n",
       "      <td>NaN</td>\n",
       "      <td>-0.094965</td>\n",
       "      <td>0.020802</td>\n",
       "      <td>NaN</td>\n",
       "      <td>NaN</td>\n",
       "      <td>0.080475</td>\n",
       "      <td>-0.003345</td>\n",
       "    </tr>\n",
       "    <tr>\n",
       "      <th>loudness</th>\n",
       "      <td>NaN</td>\n",
       "      <td>NaN</td>\n",
       "      <td>-0.009178</td>\n",
       "      <td>NaN</td>\n",
       "      <td>NaN</td>\n",
       "      <td>-0.021693</td>\n",
       "      <td>NaN</td>\n",
       "      <td>-0.069939</td>\n",
       "      <td>NaN</td>\n",
       "      <td>NaN</td>\n",
       "      <td>0.064130</td>\n",
       "    </tr>\n",
       "    <tr>\n",
       "      <th>acousticness</th>\n",
       "      <td>NaN</td>\n",
       "      <td>NaN</td>\n",
       "      <td>NaN</td>\n",
       "      <td>NaN</td>\n",
       "      <td>NaN</td>\n",
       "      <td>NaN</td>\n",
       "      <td>NaN</td>\n",
       "      <td>NaN</td>\n",
       "      <td>NaN</td>\n",
       "      <td>NaN</td>\n",
       "      <td>-0.010988</td>\n",
       "    </tr>\n",
       "    <tr>\n",
       "      <th>speechiness</th>\n",
       "      <td>0.074267</td>\n",
       "      <td>NaN</td>\n",
       "      <td>-0.094965</td>\n",
       "      <td>-0.021693</td>\n",
       "      <td>NaN</td>\n",
       "      <td>NaN</td>\n",
       "      <td>0.028948</td>\n",
       "      <td>NaN</td>\n",
       "      <td>0.053867</td>\n",
       "      <td>NaN</td>\n",
       "      <td>NaN</td>\n",
       "    </tr>\n",
       "    <tr>\n",
       "      <th>instrumentalness</th>\n",
       "      <td>NaN</td>\n",
       "      <td>-0.017706</td>\n",
       "      <td>0.020802</td>\n",
       "      <td>NaN</td>\n",
       "      <td>NaN</td>\n",
       "      <td>0.028948</td>\n",
       "      <td>NaN</td>\n",
       "      <td>-0.087034</td>\n",
       "      <td>NaN</td>\n",
       "      <td>0.018853</td>\n",
       "      <td>NaN</td>\n",
       "    </tr>\n",
       "    <tr>\n",
       "      <th>liveness</th>\n",
       "      <td>0.069487</td>\n",
       "      <td>-0.006648</td>\n",
       "      <td>NaN</td>\n",
       "      <td>-0.069939</td>\n",
       "      <td>NaN</td>\n",
       "      <td>NaN</td>\n",
       "      <td>-0.087034</td>\n",
       "      <td>NaN</td>\n",
       "      <td>-0.033366</td>\n",
       "      <td>0.025457</td>\n",
       "      <td>-0.090188</td>\n",
       "    </tr>\n",
       "    <tr>\n",
       "      <th>valence</th>\n",
       "      <td>NaN</td>\n",
       "      <td>NaN</td>\n",
       "      <td>NaN</td>\n",
       "      <td>NaN</td>\n",
       "      <td>NaN</td>\n",
       "      <td>0.053867</td>\n",
       "      <td>NaN</td>\n",
       "      <td>-0.033366</td>\n",
       "      <td>NaN</td>\n",
       "      <td>0.045089</td>\n",
       "      <td>-0.039794</td>\n",
       "    </tr>\n",
       "    <tr>\n",
       "      <th>tempo</th>\n",
       "      <td>0.075191</td>\n",
       "      <td>NaN</td>\n",
       "      <td>0.080475</td>\n",
       "      <td>NaN</td>\n",
       "      <td>NaN</td>\n",
       "      <td>NaN</td>\n",
       "      <td>0.018853</td>\n",
       "      <td>0.025457</td>\n",
       "      <td>0.045089</td>\n",
       "      <td>NaN</td>\n",
       "      <td>NaN</td>\n",
       "    </tr>\n",
       "    <tr>\n",
       "      <th>duration_ms</th>\n",
       "      <td>0.081971</td>\n",
       "      <td>-0.033763</td>\n",
       "      <td>-0.003345</td>\n",
       "      <td>0.064130</td>\n",
       "      <td>-0.010988</td>\n",
       "      <td>NaN</td>\n",
       "      <td>NaN</td>\n",
       "      <td>-0.090188</td>\n",
       "      <td>-0.039794</td>\n",
       "      <td>NaN</td>\n",
       "      <td>NaN</td>\n",
       "    </tr>\n",
       "  </tbody>\n",
       "</table>\n",
       "</div>"
      ],
      "text/plain": [
       "                    energy  danceability       key  loudness  acousticness  \\\n",
       "energy                 NaN           NaN  0.062428       NaN           NaN   \n",
       "danceability           NaN           NaN       NaN       NaN           NaN   \n",
       "key               0.062428           NaN       NaN -0.009178           NaN   \n",
       "loudness               NaN           NaN -0.009178       NaN           NaN   \n",
       "acousticness           NaN           NaN       NaN       NaN           NaN   \n",
       "speechiness       0.074267           NaN -0.094965 -0.021693           NaN   \n",
       "instrumentalness       NaN     -0.017706  0.020802       NaN           NaN   \n",
       "liveness          0.069487     -0.006648       NaN -0.069939           NaN   \n",
       "valence                NaN           NaN       NaN       NaN           NaN   \n",
       "tempo             0.075191           NaN  0.080475       NaN           NaN   \n",
       "duration_ms       0.081971     -0.033763 -0.003345  0.064130     -0.010988   \n",
       "\n",
       "                  speechiness  instrumentalness  liveness   valence     tempo  \\\n",
       "energy               0.074267               NaN  0.069487       NaN  0.075191   \n",
       "danceability              NaN         -0.017706 -0.006648       NaN       NaN   \n",
       "key                 -0.094965          0.020802       NaN       NaN  0.080475   \n",
       "loudness            -0.021693               NaN -0.069939       NaN       NaN   \n",
       "acousticness              NaN               NaN       NaN       NaN       NaN   \n",
       "speechiness               NaN          0.028948       NaN  0.053867       NaN   \n",
       "instrumentalness     0.028948               NaN -0.087034       NaN  0.018853   \n",
       "liveness                  NaN         -0.087034       NaN -0.033366  0.025457   \n",
       "valence              0.053867               NaN -0.033366       NaN  0.045089   \n",
       "tempo                     NaN          0.018853  0.025457  0.045089       NaN   \n",
       "duration_ms               NaN               NaN -0.090188 -0.039794       NaN   \n",
       "\n",
       "                  duration_ms  \n",
       "energy               0.081971  \n",
       "danceability        -0.033763  \n",
       "key                 -0.003345  \n",
       "loudness             0.064130  \n",
       "acousticness        -0.010988  \n",
       "speechiness               NaN  \n",
       "instrumentalness          NaN  \n",
       "liveness            -0.090188  \n",
       "valence             -0.039794  \n",
       "tempo                     NaN  \n",
       "duration_ms               NaN  "
      ]
     },
     "execution_count": 56,
     "metadata": {},
     "output_type": "execute_result"
    }
   ],
   "source": [
    "no_correlation = matrix[(matrix<0.1)&(matrix>-0.1)]\n",
    "no_correlation = no_correlation.dropna(how='all').dropna(axis=1, how='all')\n",
    "print(\"Features that are not correlated \")\n",
    "no_correlation"
   ]
  },
  {
   "cell_type": "markdown",
   "id": "e5bb32fc",
   "metadata": {},
   "source": [
    "\n",
    "## 5. Genre Comparison\n",
    "- Compare danceability, loudness, and acousticness scores between Pop, Hip-Hop/Rap, Dance/Electronic, and Alternative/Indie genres."
   ]
  },
  {
   "cell_type": "code",
   "execution_count": 57,
   "id": "acbb10e7",
   "metadata": {},
   "outputs": [
    {
     "data": {
      "text/html": [
       "<div>\n",
       "<style scoped>\n",
       "    .dataframe tbody tr th:only-of-type {\n",
       "        vertical-align: middle;\n",
       "    }\n",
       "\n",
       "    .dataframe tbody tr th {\n",
       "        vertical-align: top;\n",
       "    }\n",
       "\n",
       "    .dataframe thead th {\n",
       "        text-align: right;\n",
       "    }\n",
       "</style>\n",
       "<table border=\"1\" class=\"dataframe\">\n",
       "  <thead>\n",
       "    <tr style=\"text-align: right;\">\n",
       "      <th></th>\n",
       "      <th>danceability</th>\n",
       "      <th>loudness</th>\n",
       "      <th>acousticness</th>\n",
       "    </tr>\n",
       "    <tr>\n",
       "      <th>genre</th>\n",
       "      <th></th>\n",
       "      <th></th>\n",
       "      <th></th>\n",
       "    </tr>\n",
       "  </thead>\n",
       "  <tbody>\n",
       "    <tr>\n",
       "      <th>Alternative/Indie</th>\n",
       "      <td>0.661750</td>\n",
       "      <td>-5.421000</td>\n",
       "      <td>0.583500</td>\n",
       "    </tr>\n",
       "    <tr>\n",
       "      <th>Dance/Electronic</th>\n",
       "      <td>0.755000</td>\n",
       "      <td>-5.338000</td>\n",
       "      <td>0.099440</td>\n",
       "    </tr>\n",
       "    <tr>\n",
       "      <th>Hip-Hop/Rap</th>\n",
       "      <td>0.765538</td>\n",
       "      <td>-6.917846</td>\n",
       "      <td>0.188741</td>\n",
       "    </tr>\n",
       "    <tr>\n",
       "      <th>Pop</th>\n",
       "      <td>0.677571</td>\n",
       "      <td>-6.460357</td>\n",
       "      <td>0.323843</td>\n",
       "    </tr>\n",
       "  </tbody>\n",
       "</table>\n",
       "</div>"
      ],
      "text/plain": [
       "                   danceability  loudness  acousticness\n",
       "genre                                                  \n",
       "Alternative/Indie      0.661750 -5.421000      0.583500\n",
       "Dance/Electronic       0.755000 -5.338000      0.099440\n",
       "Hip-Hop/Rap            0.765538 -6.917846      0.188741\n",
       "Pop                    0.677571 -6.460357      0.323843"
      ]
     },
     "execution_count": 57,
     "metadata": {},
     "output_type": "execute_result"
    }
   ],
   "source": [
    "genres_of_interest = ['Pop', 'Hip-Hop/Rap', 'Dance/Electronic', 'Alternative/Indie']\n",
    "filtered_df = df[df['genre'].isin(genres_of_interest)]\n",
    "average_data = filtered_df.groupby('genre')[['danceability', 'loudness', 'acousticness']].mean()\n",
    "average_data"
   ]
  },
  {
   "cell_type": "code",
   "execution_count": 99,
   "id": "4cdc4547",
   "metadata": {},
   "outputs": [
    {
     "data": {
      "image/png": "[encoded data removed]",
      "text/plain": [
       "<Figure size 500x300 with 1 Axes>"
      ]
     },
     "metadata": {},
     "output_type": "display_data"
    }
   ],
   "source": [
    "plt.figure(figsize=(5, 3))\n",
    "average_data['danceability'].plot(kind='bar', color=['blue', 'green', 'red', 'purple'])\n",
    "plt.title('Average Danceability Score by Genre')\n",
    "plt.xlabel('Genre')\n",
    "plt.ylabel('Average Danceability Score')\n",
    "plt.xticks(rotation=45)\n",
    "plt.show()"
   ]
  },
  {
   "cell_type": "markdown",
   "id": "bd76e1c9",
   "metadata": {},
   "source": [
    "Hip-Hop/Rap (0.766) has the highets danceability and Dance/Electronic (0.755) is close second. These genres represents tracks with purpose for dancing, parties and clubs.\n",
    "Pop (0.678) is fairly high indicator and also quite danceable, maybe in variuos ways.\n",
    "Alternative/Indie (0.662) is lower but still quite davceable, poropably represents more relaxed music."
   ]
  },
  {
   "cell_type": "code",
   "execution_count": 58,
   "id": "66051e29",
   "metadata": {},
   "outputs": [
    {
     "data": {
      "image/png": "[encoded data removed]",
      "text/plain": [
       "<Figure size 500x300 with 1 Axes>"
      ]
     },
     "metadata": {},
     "output_type": "display_data"
    }
   ],
   "source": [
    "plt.figure(figsize=(5, 3))\n",
    "average_data['loudness'].plot(kind='bar', color=['blue', 'green', 'red', 'purple'])\n",
    "plt.title('Average Loudness Score by Genre')\n",
    "plt.xlabel('Genre')\n",
    "plt.ylabel('Average Loudness Score')\n",
    "plt.xticks(rotation=45)\n",
    "plt.show()"
   ]
  },
  {
   "cell_type": "markdown",
   "id": "20941225",
   "metadata": {},
   "source": [
    "Dance/Electronic (-5.34) is generally loud aimed more for clubs and live events.\n",
    "Alternative/Indie (-5.42) is very silimilar to Dance/Electronic, these track are quite loud and energetic.\n",
    "Pop (-6.46) is slighty quieter that previuos, but still quite loud.\n",
    "Hip-Hop/Rap (-6.92 dB) is the least loud, maybe because of focusing on lyrical content."
   ]
  },
  {
   "cell_type": "code",
   "execution_count": 59,
   "id": "10e8d50d",
   "metadata": {},
   "outputs": [
    {
     "data": {
      "image/png": "[encoded data removed]",
      "text/plain": [
       "<Figure size 500x300 with 1 Axes>"
      ]
     },
     "metadata": {},
     "output_type": "display_data"
    }
   ],
   "source": [
    "plt.figure(figsize=(5, 3))\n",
    "average_data['acousticness'].plot(kind='bar', color=['blue', 'green', 'red', 'purple'])\n",
    "plt.title('Average Acousticness Score by Genre')\n",
    "plt.xlabel('Genre')\n",
    "plt.ylabel('Average Acousticness Score')\n",
    "plt.xticks(rotation=45)\n",
    "plt.show()"
   ]
  },
  {
   "cell_type": "markdown",
   "id": "873d9386",
   "metadata": {},
   "source": [
    "Alternative/Indie (0.584) has very high acousticnes comparet with other selected genres, suggesting a more organic, less processed sound.\n",
    "Pop (0.324) has moderate acousticnes, suggesting a balance between electronic and acoustic instrumentation.\n",
    "Hip-Hop/Rap (0.189) is less acoustic, emphasising electronic beats and production.\n",
    "Dance/Electronic (0.099) is the least acoustic, which is expected for this genre."
   ]
  },
  {
   "cell_type": "markdown",
   "id": "891c666e",
   "metadata": {},
   "source": [
    "## 6. Conclusion"
   ]
  },
  {
   "cell_type": "markdown",
   "id": "2d54ca6a",
   "metadata": {},
   "source": [
    "### 6.1 Summary of Findings:\n",
    "\n",
    "- While Pop genre is most popular it has no maximum values in analysed features: danceability, loudness and acousticness, but has second or third biggest average values.\n",
    "\n",
    "- This dataset only includes the 50 most popular tracks. The analysis suggests that tracks in the Pop and Hip-Hop/Rap genres were very popular in 2020. It also indicates that tracks in the Dance/Electronic and Alternative/Indie genres might have a higher likelihood of being a hit compared to other genres.\n",
    "\n",
    "- We observe that Dua Lipa, Billie Eilish, and Travis Scott are among the most popular artists with 3 tracks each in the top 50. While past success can indicate future popularity, predicting the success of new tracks from these artists will depend on various factors beyond their previous achievements."
   ]
  },
  {
   "cell_type": "markdown",
   "id": "131da53d",
   "metadata": {},
   "source": [
    "\n",
    "### 6.2 Suggestions for Improvement:\n",
    "\n",
    "- Collecting more data from different years to see if trends hold over time.\n",
    "- Further analysis could include more visualizations.\n",
    "- More sophisticated outlier detection and handling methods can be explored.\n",
    "- Using advanced statistical methods or machine learning models for deeper insights.\n",
    "- Analyzing additional features such as tempo, valence and speechiness. \n"
   ]
  },
  {
   "cell_type": "markdown",
   "id": "3d994cb0",
   "metadata": {},
   "source": [
    "## 7. License \n",
    "- Project author Francišek Verkovski, 2024\n",
    "- This project is licensed under the MIT License."
   ]
  }
 ],
 "metadata": {
  "kernelspec": {
   "display_name": "Python 3 (ipykernel)",
   "language": "python",
   "name": "python3"
  },
  "language_info": {
   "codemirror_mode": {
    "name": "ipython",
    "version": 3
   },
   "file_extension": ".py",
   "mimetype": "text/x-python",
   "name": "python",
   "nbconvert_exporter": "python",
   "pygments_lexer": "ipython3",
   "version": "3.12.7"
  }
 },
 "nbformat": 4,
 "nbformat_minor": 5
}
